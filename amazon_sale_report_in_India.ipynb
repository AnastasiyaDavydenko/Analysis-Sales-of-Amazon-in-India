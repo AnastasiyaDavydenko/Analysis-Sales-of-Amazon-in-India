{
 "cells": [
  {
   "cell_type": "code",
   "execution_count": 1,
   "id": "a0565c51",
   "metadata": {},
   "outputs": [],
   "source": [
    "import pandas as pd\n",
    "import seaborn as sns\n",
    "import numpy as np\n",
    "import matplotlib.pyplot as plt\n",
    "\n",
    "%matplotlib inline"
   ]
  },
  {
   "cell_type": "code",
   "execution_count": 2,
   "id": "55c879d7",
   "metadata": {},
   "outputs": [],
   "source": [
    "amazon_sale_report = pd.read_csv(r\"C:\\Users\\belik\\Desktop\\дата игры\\E-Commerce Sales Dataset\\Amazon Sale Report.csv\",index_col='index', low_memory=False)"
   ]
  },
  {
   "cell_type": "code",
   "execution_count": 3,
   "id": "8708ffea",
   "metadata": {},
   "outputs": [],
   "source": [
    "# настраиваем отображение максимального количества колонок и строк\n",
    "\n",
    "pd.options.display.max_columns =30\n",
    "pd.options.display.max_rows = 100"
   ]
  },
  {
   "cell_type": "code",
   "execution_count": 4,
   "id": "46c078a9",
   "metadata": {},
   "outputs": [
    {
     "data": {
      "text/html": [
       "<div>\n",
       "<style scoped>\n",
       "    .dataframe tbody tr th:only-of-type {\n",
       "        vertical-align: middle;\n",
       "    }\n",
       "\n",
       "    .dataframe tbody tr th {\n",
       "        vertical-align: top;\n",
       "    }\n",
       "\n",
       "    .dataframe thead th {\n",
       "        text-align: right;\n",
       "    }\n",
       "</style>\n",
       "<table border=\"1\" class=\"dataframe\">\n",
       "  <thead>\n",
       "    <tr style=\"text-align: right;\">\n",
       "      <th></th>\n",
       "      <th>Order ID</th>\n",
       "      <th>Date</th>\n",
       "      <th>Status</th>\n",
       "      <th>Fulfilment</th>\n",
       "      <th>Sales Channel</th>\n",
       "      <th>ship-service-level</th>\n",
       "      <th>Style</th>\n",
       "      <th>SKU</th>\n",
       "      <th>Category</th>\n",
       "      <th>Size</th>\n",
       "      <th>ASIN</th>\n",
       "      <th>Courier Status</th>\n",
       "      <th>Qty</th>\n",
       "      <th>currency</th>\n",
       "      <th>Amount</th>\n",
       "      <th>ship-city</th>\n",
       "      <th>ship-state</th>\n",
       "      <th>ship-postal-code</th>\n",
       "      <th>ship-country</th>\n",
       "      <th>promotion-ids</th>\n",
       "      <th>B2B</th>\n",
       "      <th>fulfilled-by</th>\n",
       "      <th>Unnamed: 22</th>\n",
       "    </tr>\n",
       "    <tr>\n",
       "      <th>index</th>\n",
       "      <th></th>\n",
       "      <th></th>\n",
       "      <th></th>\n",
       "      <th></th>\n",
       "      <th></th>\n",
       "      <th></th>\n",
       "      <th></th>\n",
       "      <th></th>\n",
       "      <th></th>\n",
       "      <th></th>\n",
       "      <th></th>\n",
       "      <th></th>\n",
       "      <th></th>\n",
       "      <th></th>\n",
       "      <th></th>\n",
       "      <th></th>\n",
       "      <th></th>\n",
       "      <th></th>\n",
       "      <th></th>\n",
       "      <th></th>\n",
       "      <th></th>\n",
       "      <th></th>\n",
       "      <th></th>\n",
       "    </tr>\n",
       "  </thead>\n",
       "  <tbody>\n",
       "    <tr>\n",
       "      <th>0</th>\n",
       "      <td>405-8078784-5731545</td>\n",
       "      <td>04-30-22</td>\n",
       "      <td>Cancelled</td>\n",
       "      <td>Merchant</td>\n",
       "      <td>Amazon.in</td>\n",
       "      <td>Standard</td>\n",
       "      <td>SET389</td>\n",
       "      <td>SET389-KR-NP-S</td>\n",
       "      <td>Set</td>\n",
       "      <td>S</td>\n",
       "      <td>B09KXVBD7Z</td>\n",
       "      <td>NaN</td>\n",
       "      <td>0</td>\n",
       "      <td>INR</td>\n",
       "      <td>647.62</td>\n",
       "      <td>MUMBAI</td>\n",
       "      <td>MAHARASHTRA</td>\n",
       "      <td>400081.0</td>\n",
       "      <td>IN</td>\n",
       "      <td>NaN</td>\n",
       "      <td>False</td>\n",
       "      <td>Easy Ship</td>\n",
       "      <td>NaN</td>\n",
       "    </tr>\n",
       "    <tr>\n",
       "      <th>1</th>\n",
       "      <td>171-9198151-1101146</td>\n",
       "      <td>04-30-22</td>\n",
       "      <td>Shipped - Delivered to Buyer</td>\n",
       "      <td>Merchant</td>\n",
       "      <td>Amazon.in</td>\n",
       "      <td>Standard</td>\n",
       "      <td>JNE3781</td>\n",
       "      <td>JNE3781-KR-XXXL</td>\n",
       "      <td>kurta</td>\n",
       "      <td>3XL</td>\n",
       "      <td>B09K3WFS32</td>\n",
       "      <td>Shipped</td>\n",
       "      <td>1</td>\n",
       "      <td>INR</td>\n",
       "      <td>406.00</td>\n",
       "      <td>BENGALURU</td>\n",
       "      <td>KARNATAKA</td>\n",
       "      <td>560085.0</td>\n",
       "      <td>IN</td>\n",
       "      <td>Amazon PLCC Free-Financing Universal Merchant ...</td>\n",
       "      <td>False</td>\n",
       "      <td>Easy Ship</td>\n",
       "      <td>NaN</td>\n",
       "    </tr>\n",
       "    <tr>\n",
       "      <th>2</th>\n",
       "      <td>404-0687676-7273146</td>\n",
       "      <td>04-30-22</td>\n",
       "      <td>Shipped</td>\n",
       "      <td>Amazon</td>\n",
       "      <td>Amazon.in</td>\n",
       "      <td>Expedited</td>\n",
       "      <td>JNE3371</td>\n",
       "      <td>JNE3371-KR-XL</td>\n",
       "      <td>kurta</td>\n",
       "      <td>XL</td>\n",
       "      <td>B07WV4JV4D</td>\n",
       "      <td>Shipped</td>\n",
       "      <td>1</td>\n",
       "      <td>INR</td>\n",
       "      <td>329.00</td>\n",
       "      <td>NAVI MUMBAI</td>\n",
       "      <td>MAHARASHTRA</td>\n",
       "      <td>410210.0</td>\n",
       "      <td>IN</td>\n",
       "      <td>IN Core Free Shipping 2015/04/08 23-48-5-108</td>\n",
       "      <td>True</td>\n",
       "      <td>NaN</td>\n",
       "      <td>NaN</td>\n",
       "    </tr>\n",
       "    <tr>\n",
       "      <th>3</th>\n",
       "      <td>403-9615377-8133951</td>\n",
       "      <td>04-30-22</td>\n",
       "      <td>Cancelled</td>\n",
       "      <td>Merchant</td>\n",
       "      <td>Amazon.in</td>\n",
       "      <td>Standard</td>\n",
       "      <td>J0341</td>\n",
       "      <td>J0341-DR-L</td>\n",
       "      <td>Western Dress</td>\n",
       "      <td>L</td>\n",
       "      <td>B099NRCT7B</td>\n",
       "      <td>NaN</td>\n",
       "      <td>0</td>\n",
       "      <td>INR</td>\n",
       "      <td>753.33</td>\n",
       "      <td>PUDUCHERRY</td>\n",
       "      <td>PUDUCHERRY</td>\n",
       "      <td>605008.0</td>\n",
       "      <td>IN</td>\n",
       "      <td>NaN</td>\n",
       "      <td>False</td>\n",
       "      <td>Easy Ship</td>\n",
       "      <td>NaN</td>\n",
       "    </tr>\n",
       "    <tr>\n",
       "      <th>4</th>\n",
       "      <td>407-1069790-7240320</td>\n",
       "      <td>04-30-22</td>\n",
       "      <td>Shipped</td>\n",
       "      <td>Amazon</td>\n",
       "      <td>Amazon.in</td>\n",
       "      <td>Expedited</td>\n",
       "      <td>JNE3671</td>\n",
       "      <td>JNE3671-TU-XXXL</td>\n",
       "      <td>Top</td>\n",
       "      <td>3XL</td>\n",
       "      <td>B098714BZP</td>\n",
       "      <td>Shipped</td>\n",
       "      <td>1</td>\n",
       "      <td>INR</td>\n",
       "      <td>574.00</td>\n",
       "      <td>CHENNAI</td>\n",
       "      <td>TAMIL NADU</td>\n",
       "      <td>600073.0</td>\n",
       "      <td>IN</td>\n",
       "      <td>NaN</td>\n",
       "      <td>False</td>\n",
       "      <td>NaN</td>\n",
       "      <td>NaN</td>\n",
       "    </tr>\n",
       "  </tbody>\n",
       "</table>\n",
       "</div>"
      ],
      "text/plain": [
       "                  Order ID      Date                        Status Fulfilment  \\\n",
       "index                                                                           \n",
       "0      405-8078784-5731545  04-30-22                     Cancelled   Merchant   \n",
       "1      171-9198151-1101146  04-30-22  Shipped - Delivered to Buyer   Merchant   \n",
       "2      404-0687676-7273146  04-30-22                       Shipped     Amazon   \n",
       "3      403-9615377-8133951  04-30-22                     Cancelled   Merchant   \n",
       "4      407-1069790-7240320  04-30-22                       Shipped     Amazon   \n",
       "\n",
       "      Sales Channel  ship-service-level    Style              SKU  \\\n",
       "index                                                               \n",
       "0          Amazon.in           Standard   SET389   SET389-KR-NP-S   \n",
       "1          Amazon.in           Standard  JNE3781  JNE3781-KR-XXXL   \n",
       "2          Amazon.in          Expedited  JNE3371    JNE3371-KR-XL   \n",
       "3          Amazon.in           Standard    J0341       J0341-DR-L   \n",
       "4          Amazon.in          Expedited  JNE3671  JNE3671-TU-XXXL   \n",
       "\n",
       "            Category Size        ASIN Courier Status  Qty currency  Amount  \\\n",
       "index                                                                        \n",
       "0                Set    S  B09KXVBD7Z            NaN    0      INR  647.62   \n",
       "1              kurta  3XL  B09K3WFS32        Shipped    1      INR  406.00   \n",
       "2              kurta   XL  B07WV4JV4D        Shipped    1      INR  329.00   \n",
       "3      Western Dress    L  B099NRCT7B            NaN    0      INR  753.33   \n",
       "4                Top  3XL  B098714BZP        Shipped    1      INR  574.00   \n",
       "\n",
       "         ship-city   ship-state  ship-postal-code ship-country  \\\n",
       "index                                                            \n",
       "0           MUMBAI  MAHARASHTRA          400081.0           IN   \n",
       "1        BENGALURU    KARNATAKA          560085.0           IN   \n",
       "2      NAVI MUMBAI  MAHARASHTRA          410210.0           IN   \n",
       "3       PUDUCHERRY   PUDUCHERRY          605008.0           IN   \n",
       "4          CHENNAI   TAMIL NADU          600073.0           IN   \n",
       "\n",
       "                                           promotion-ids    B2B fulfilled-by  \\\n",
       "index                                                                          \n",
       "0                                                    NaN  False    Easy Ship   \n",
       "1      Amazon PLCC Free-Financing Universal Merchant ...  False    Easy Ship   \n",
       "2           IN Core Free Shipping 2015/04/08 23-48-5-108   True          NaN   \n",
       "3                                                    NaN  False    Easy Ship   \n",
       "4                                                    NaN  False          NaN   \n",
       "\n",
       "      Unnamed: 22  \n",
       "index              \n",
       "0             NaN  \n",
       "1             NaN  \n",
       "2             NaN  \n",
       "3             NaN  \n",
       "4             NaN  "
      ]
     },
     "execution_count": 4,
     "metadata": {},
     "output_type": "execute_result"
    }
   ],
   "source": [
    "amazon_sale_report.head()"
   ]
  },
  {
   "cell_type": "code",
   "execution_count": 5,
   "id": "2c4d9495",
   "metadata": {
    "scrolled": false
   },
   "outputs": [
    {
     "name": "stdout",
     "output_type": "stream",
     "text": [
      "<class 'pandas.core.frame.DataFrame'>\n",
      "Int64Index: 128975 entries, 0 to 128974\n",
      "Data columns (total 23 columns):\n",
      " #   Column              Non-Null Count   Dtype  \n",
      "---  ------              --------------   -----  \n",
      " 0   Order ID            128975 non-null  object \n",
      " 1   Date                128975 non-null  object \n",
      " 2   Status              128975 non-null  object \n",
      " 3   Fulfilment          128975 non-null  object \n",
      " 4   Sales Channel       128975 non-null  object \n",
      " 5   ship-service-level  128975 non-null  object \n",
      " 6   Style               128975 non-null  object \n",
      " 7   SKU                 128975 non-null  object \n",
      " 8   Category            128975 non-null  object \n",
      " 9   Size                128975 non-null  object \n",
      " 10  ASIN                128975 non-null  object \n",
      " 11  Courier Status      122103 non-null  object \n",
      " 12  Qty                 128975 non-null  int64  \n",
      " 13  currency            121180 non-null  object \n",
      " 14  Amount              121180 non-null  float64\n",
      " 15  ship-city           128942 non-null  object \n",
      " 16  ship-state          128942 non-null  object \n",
      " 17  ship-postal-code    128942 non-null  float64\n",
      " 18  ship-country        128942 non-null  object \n",
      " 19  promotion-ids       79822 non-null   object \n",
      " 20  B2B                 128975 non-null  bool   \n",
      " 21  fulfilled-by        39277 non-null   object \n",
      " 22  Unnamed: 22         79925 non-null   object \n",
      "dtypes: bool(1), float64(2), int64(1), object(19)\n",
      "memory usage: 22.8+ MB\n"
     ]
    }
   ],
   "source": [
    "amazon_sale_report.info()"
   ]
  },
  {
   "cell_type": "code",
   "execution_count": 6,
   "id": "fa734f30",
   "metadata": {
    "scrolled": false
   },
   "outputs": [
    {
     "data": {
      "text/html": [
       "<div>\n",
       "<style scoped>\n",
       "    .dataframe tbody tr th:only-of-type {\n",
       "        vertical-align: middle;\n",
       "    }\n",
       "\n",
       "    .dataframe tbody tr th {\n",
       "        vertical-align: top;\n",
       "    }\n",
       "\n",
       "    .dataframe thead th {\n",
       "        text-align: right;\n",
       "    }\n",
       "</style>\n",
       "<table border=\"1\" class=\"dataframe\">\n",
       "  <thead>\n",
       "    <tr style=\"text-align: right;\">\n",
       "      <th></th>\n",
       "      <th>Count of unique values</th>\n",
       "    </tr>\n",
       "  </thead>\n",
       "  <tbody>\n",
       "    <tr>\n",
       "      <th>Order ID</th>\n",
       "      <td>120378</td>\n",
       "    </tr>\n",
       "    <tr>\n",
       "      <th>Date</th>\n",
       "      <td>91</td>\n",
       "    </tr>\n",
       "    <tr>\n",
       "      <th>Status</th>\n",
       "      <td>13</td>\n",
       "    </tr>\n",
       "    <tr>\n",
       "      <th>Fulfilment</th>\n",
       "      <td>2</td>\n",
       "    </tr>\n",
       "    <tr>\n",
       "      <th>Sales Channel</th>\n",
       "      <td>2</td>\n",
       "    </tr>\n",
       "    <tr>\n",
       "      <th>ship-service-level</th>\n",
       "      <td>2</td>\n",
       "    </tr>\n",
       "    <tr>\n",
       "      <th>Style</th>\n",
       "      <td>1377</td>\n",
       "    </tr>\n",
       "    <tr>\n",
       "      <th>SKU</th>\n",
       "      <td>7195</td>\n",
       "    </tr>\n",
       "    <tr>\n",
       "      <th>Category</th>\n",
       "      <td>9</td>\n",
       "    </tr>\n",
       "    <tr>\n",
       "      <th>Size</th>\n",
       "      <td>11</td>\n",
       "    </tr>\n",
       "    <tr>\n",
       "      <th>ASIN</th>\n",
       "      <td>7190</td>\n",
       "    </tr>\n",
       "    <tr>\n",
       "      <th>Courier Status</th>\n",
       "      <td>3</td>\n",
       "    </tr>\n",
       "    <tr>\n",
       "      <th>Qty</th>\n",
       "      <td>10</td>\n",
       "    </tr>\n",
       "    <tr>\n",
       "      <th>currency</th>\n",
       "      <td>1</td>\n",
       "    </tr>\n",
       "    <tr>\n",
       "      <th>Amount</th>\n",
       "      <td>1410</td>\n",
       "    </tr>\n",
       "    <tr>\n",
       "      <th>ship-city</th>\n",
       "      <td>8955</td>\n",
       "    </tr>\n",
       "    <tr>\n",
       "      <th>ship-state</th>\n",
       "      <td>69</td>\n",
       "    </tr>\n",
       "    <tr>\n",
       "      <th>ship-postal-code</th>\n",
       "      <td>9459</td>\n",
       "    </tr>\n",
       "    <tr>\n",
       "      <th>ship-country</th>\n",
       "      <td>1</td>\n",
       "    </tr>\n",
       "    <tr>\n",
       "      <th>promotion-ids</th>\n",
       "      <td>5787</td>\n",
       "    </tr>\n",
       "    <tr>\n",
       "      <th>B2B</th>\n",
       "      <td>2</td>\n",
       "    </tr>\n",
       "    <tr>\n",
       "      <th>fulfilled-by</th>\n",
       "      <td>1</td>\n",
       "    </tr>\n",
       "    <tr>\n",
       "      <th>Unnamed: 22</th>\n",
       "      <td>1</td>\n",
       "    </tr>\n",
       "  </tbody>\n",
       "</table>\n",
       "</div>"
      ],
      "text/plain": [
       "                    Count of unique values\n",
       "Order ID                            120378\n",
       "Date                                    91\n",
       "Status                                  13\n",
       "Fulfilment                               2\n",
       "Sales Channel                            2\n",
       "ship-service-level                       2\n",
       "Style                                 1377\n",
       "SKU                                   7195\n",
       "Category                                 9\n",
       "Size                                    11\n",
       "ASIN                                  7190\n",
       "Courier Status                           3\n",
       "Qty                                     10\n",
       "currency                                 1\n",
       "Amount                                1410\n",
       "ship-city                             8955\n",
       "ship-state                              69\n",
       "ship-postal-code                      9459\n",
       "ship-country                             1\n",
       "promotion-ids                         5787\n",
       "B2B                                      2\n",
       "fulfilled-by                             1\n",
       "Unnamed: 22                              1"
      ]
     },
     "execution_count": 6,
     "metadata": {},
     "output_type": "execute_result"
    }
   ],
   "source": [
    "amazon_sale_report.nunique().to_frame(name='Count of unique values')"
   ]
  },
  {
   "cell_type": "code",
   "execution_count": 7,
   "id": "6b437c2b",
   "metadata": {
    "scrolled": false
   },
   "outputs": [
    {
     "data": {
      "text/html": [
       "<div>\n",
       "<style scoped>\n",
       "    .dataframe tbody tr th:only-of-type {\n",
       "        vertical-align: middle;\n",
       "    }\n",
       "\n",
       "    .dataframe tbody tr th {\n",
       "        vertical-align: top;\n",
       "    }\n",
       "\n",
       "    .dataframe thead th {\n",
       "        text-align: right;\n",
       "    }\n",
       "</style>\n",
       "<table border=\"1\" class=\"dataframe\">\n",
       "  <thead>\n",
       "    <tr style=\"text-align: right;\">\n",
       "      <th></th>\n",
       "      <th>Unique values</th>\n",
       "    </tr>\n",
       "  </thead>\n",
       "  <tbody>\n",
       "    <tr>\n",
       "      <th>Order ID</th>\n",
       "      <td>[405-8078784-5731545, 171-9198151-1101146, 404...</td>\n",
       "    </tr>\n",
       "    <tr>\n",
       "      <th>Date</th>\n",
       "      <td>[04-30-22, 04-29-22, 04-28-22, 04-27-22, 04-26...</td>\n",
       "    </tr>\n",
       "    <tr>\n",
       "      <th>Status</th>\n",
       "      <td>[Cancelled, Shipped - Delivered to Buyer, Ship...</td>\n",
       "    </tr>\n",
       "    <tr>\n",
       "      <th>Fulfilment</th>\n",
       "      <td>[Merchant, Amazon]</td>\n",
       "    </tr>\n",
       "    <tr>\n",
       "      <th>Sales Channel</th>\n",
       "      <td>[Amazon.in, Non-Amazon]</td>\n",
       "    </tr>\n",
       "    <tr>\n",
       "      <th>ship-service-level</th>\n",
       "      <td>[Standard, Expedited]</td>\n",
       "    </tr>\n",
       "    <tr>\n",
       "      <th>Style</th>\n",
       "      <td>[SET389, JNE3781, JNE3371, J0341, JNE3671, SET...</td>\n",
       "    </tr>\n",
       "    <tr>\n",
       "      <th>SKU</th>\n",
       "      <td>[SET389-KR-NP-S, JNE3781-KR-XXXL, JNE3371-KR-X...</td>\n",
       "    </tr>\n",
       "    <tr>\n",
       "      <th>Category</th>\n",
       "      <td>[Set, kurta, Western Dress, Top, Ethnic Dress,...</td>\n",
       "    </tr>\n",
       "    <tr>\n",
       "      <th>Size</th>\n",
       "      <td>[S, 3XL, XL, L, XXL, XS, 6XL, M, 4XL, 5XL, Free]</td>\n",
       "    </tr>\n",
       "    <tr>\n",
       "      <th>ASIN</th>\n",
       "      <td>[B09KXVBD7Z, B09K3WFS32, B07WV4JV4D, B099NRCT7...</td>\n",
       "    </tr>\n",
       "    <tr>\n",
       "      <th>Courier Status</th>\n",
       "      <td>[nan, Shipped, Cancelled, Unshipped]</td>\n",
       "    </tr>\n",
       "    <tr>\n",
       "      <th>Qty</th>\n",
       "      <td>[0, 1, 2, 15, 3, 9, 13, 5, 4, 8]</td>\n",
       "    </tr>\n",
       "    <tr>\n",
       "      <th>currency</th>\n",
       "      <td>[INR, nan]</td>\n",
       "    </tr>\n",
       "    <tr>\n",
       "      <th>Amount</th>\n",
       "      <td>[647.62, 406.0, 329.0, 753.33, 574.0, 824.0, 6...</td>\n",
       "    </tr>\n",
       "    <tr>\n",
       "      <th>ship-city</th>\n",
       "      <td>[MUMBAI, BENGALURU, NAVI MUMBAI, PUDUCHERRY, C...</td>\n",
       "    </tr>\n",
       "    <tr>\n",
       "      <th>ship-state</th>\n",
       "      <td>[MAHARASHTRA, KARNATAKA, PUDUCHERRY, TAMIL NAD...</td>\n",
       "    </tr>\n",
       "    <tr>\n",
       "      <th>ship-postal-code</th>\n",
       "      <td>[400081.0, 560085.0, 410210.0, 605008.0, 60007...</td>\n",
       "    </tr>\n",
       "    <tr>\n",
       "      <th>ship-country</th>\n",
       "      <td>[IN, nan]</td>\n",
       "    </tr>\n",
       "    <tr>\n",
       "      <th>promotion-ids</th>\n",
       "      <td>[nan, Amazon PLCC Free-Financing Universal Mer...</td>\n",
       "    </tr>\n",
       "    <tr>\n",
       "      <th>B2B</th>\n",
       "      <td>[False, True]</td>\n",
       "    </tr>\n",
       "    <tr>\n",
       "      <th>fulfilled-by</th>\n",
       "      <td>[Easy Ship, nan]</td>\n",
       "    </tr>\n",
       "    <tr>\n",
       "      <th>Unnamed: 22</th>\n",
       "      <td>[nan, False]</td>\n",
       "    </tr>\n",
       "  </tbody>\n",
       "</table>\n",
       "</div>"
      ],
      "text/plain": [
       "                                                        Unique values\n",
       "Order ID            [405-8078784-5731545, 171-9198151-1101146, 404...\n",
       "Date                [04-30-22, 04-29-22, 04-28-22, 04-27-22, 04-26...\n",
       "Status              [Cancelled, Shipped - Delivered to Buyer, Ship...\n",
       "Fulfilment                                         [Merchant, Amazon]\n",
       "Sales Channel                                 [Amazon.in, Non-Amazon]\n",
       "ship-service-level                              [Standard, Expedited]\n",
       "Style               [SET389, JNE3781, JNE3371, J0341, JNE3671, SET...\n",
       "SKU                 [SET389-KR-NP-S, JNE3781-KR-XXXL, JNE3371-KR-X...\n",
       "Category            [Set, kurta, Western Dress, Top, Ethnic Dress,...\n",
       "Size                 [S, 3XL, XL, L, XXL, XS, 6XL, M, 4XL, 5XL, Free]\n",
       "ASIN                [B09KXVBD7Z, B09K3WFS32, B07WV4JV4D, B099NRCT7...\n",
       "Courier Status                   [nan, Shipped, Cancelled, Unshipped]\n",
       "Qty                                  [0, 1, 2, 15, 3, 9, 13, 5, 4, 8]\n",
       "currency                                                   [INR, nan]\n",
       "Amount              [647.62, 406.0, 329.0, 753.33, 574.0, 824.0, 6...\n",
       "ship-city           [MUMBAI, BENGALURU, NAVI MUMBAI, PUDUCHERRY, C...\n",
       "ship-state          [MAHARASHTRA, KARNATAKA, PUDUCHERRY, TAMIL NAD...\n",
       "ship-postal-code    [400081.0, 560085.0, 410210.0, 605008.0, 60007...\n",
       "ship-country                                                [IN, nan]\n",
       "promotion-ids       [nan, Amazon PLCC Free-Financing Universal Mer...\n",
       "B2B                                                     [False, True]\n",
       "fulfilled-by                                         [Easy Ship, nan]\n",
       "Unnamed: 22                                              [nan, False]"
      ]
     },
     "execution_count": 7,
     "metadata": {},
     "output_type": "execute_result"
    }
   ],
   "source": [
    "amazon_sale_report.apply(pd.unique).to_frame(name='Unique values')"
   ]
  },
  {
   "cell_type": "code",
   "execution_count": 8,
   "id": "1cb5cbb3",
   "metadata": {
    "scrolled": true
   },
   "outputs": [
    {
     "data": {
      "text/html": [
       "<div>\n",
       "<style scoped>\n",
       "    .dataframe tbody tr th:only-of-type {\n",
       "        vertical-align: middle;\n",
       "    }\n",
       "\n",
       "    .dataframe tbody tr th {\n",
       "        vertical-align: top;\n",
       "    }\n",
       "\n",
       "    .dataframe thead th {\n",
       "        text-align: right;\n",
       "    }\n",
       "</style>\n",
       "<table border=\"1\" class=\"dataframe\">\n",
       "  <thead>\n",
       "    <tr style=\"text-align: right;\">\n",
       "      <th></th>\n",
       "      <th>count</th>\n",
       "      <th>mean</th>\n",
       "      <th>std</th>\n",
       "      <th>min</th>\n",
       "      <th>25%</th>\n",
       "      <th>50%</th>\n",
       "      <th>75%</th>\n",
       "      <th>max</th>\n",
       "    </tr>\n",
       "  </thead>\n",
       "  <tbody>\n",
       "    <tr>\n",
       "      <th>Qty</th>\n",
       "      <td>128975.0</td>\n",
       "      <td>0.904431</td>\n",
       "      <td>0.313354</td>\n",
       "      <td>0.0</td>\n",
       "      <td>1.0</td>\n",
       "      <td>1.0</td>\n",
       "      <td>1.0</td>\n",
       "      <td>15.0</td>\n",
       "    </tr>\n",
       "    <tr>\n",
       "      <th>Amount</th>\n",
       "      <td>121180.0</td>\n",
       "      <td>648.561465</td>\n",
       "      <td>281.211687</td>\n",
       "      <td>0.0</td>\n",
       "      <td>449.0</td>\n",
       "      <td>605.0</td>\n",
       "      <td>788.0</td>\n",
       "      <td>5584.0</td>\n",
       "    </tr>\n",
       "    <tr>\n",
       "      <th>ship-postal-code</th>\n",
       "      <td>128942.0</td>\n",
       "      <td>463966.236509</td>\n",
       "      <td>191476.764941</td>\n",
       "      <td>110001.0</td>\n",
       "      <td>382421.0</td>\n",
       "      <td>500033.0</td>\n",
       "      <td>600024.0</td>\n",
       "      <td>989898.0</td>\n",
       "    </tr>\n",
       "  </tbody>\n",
       "</table>\n",
       "</div>"
      ],
      "text/plain": [
       "                     count           mean            std       min       25%  \\\n",
       "Qty               128975.0       0.904431       0.313354       0.0       1.0   \n",
       "Amount            121180.0     648.561465     281.211687       0.0     449.0   \n",
       "ship-postal-code  128942.0  463966.236509  191476.764941  110001.0  382421.0   \n",
       "\n",
       "                       50%       75%       max  \n",
       "Qty                    1.0       1.0      15.0  \n",
       "Amount               605.0     788.0    5584.0  \n",
       "ship-postal-code  500033.0  600024.0  989898.0  "
      ]
     },
     "execution_count": 8,
     "metadata": {},
     "output_type": "execute_result"
    }
   ],
   "source": [
    "amazon_sale_report.describe().T"
   ]
  },
  {
   "cell_type": "code",
   "execution_count": 9,
   "id": "1e82dc84",
   "metadata": {
    "scrolled": true
   },
   "outputs": [
    {
     "data": {
      "image/png": "[encoded data removed]",
      "text/plain": [
       "<Figure size 432x288 with 2 Axes>"
      ]
     },
     "metadata": {
      "needs_background": "light"
     },
     "output_type": "display_data"
    }
   ],
   "source": [
    "sns.heatmap(amazon_sale_report.isnull())\n",
    "plt.show()"
   ]
  },
  {
   "cell_type": "code",
   "execution_count": 10,
   "id": "1c0b5df0",
   "metadata": {
    "scrolled": false
   },
   "outputs": [
    {
     "data": {
      "text/plain": [
       "Order ID                  0\n",
       "Date                      0\n",
       "Status                    0\n",
       "Fulfilment                0\n",
       "Sales Channel             0\n",
       "ship-service-level        0\n",
       "Style                     0\n",
       "SKU                       0\n",
       "Category                  0\n",
       "Size                      0\n",
       "ASIN                      0\n",
       "Courier Status         6872\n",
       "Qty                       0\n",
       "currency               7795\n",
       "Amount                 7795\n",
       "ship-city                33\n",
       "ship-state               33\n",
       "ship-postal-code         33\n",
       "ship-country             33\n",
       "promotion-ids         49153\n",
       "B2B                       0\n",
       "fulfilled-by          89698\n",
       "Unnamed: 22           49050\n",
       "dtype: int64"
      ]
     },
     "execution_count": 10,
     "metadata": {},
     "output_type": "execute_result"
    }
   ],
   "source": [
    "amazon_sale_report.isnull().sum()"
   ]
  },
  {
   "cell_type": "markdown",
   "id": "b4e1f147",
   "metadata": {},
   "source": [
    "### Очистка"
   ]
  },
  {
   "cell_type": "code",
   "execution_count": 11,
   "id": "8cf9efe0",
   "metadata": {},
   "outputs": [
    {
     "data": {
      "text/plain": [
       "7"
      ]
     },
     "execution_count": 11,
     "metadata": {},
     "output_type": "execute_result"
    }
   ],
   "source": [
    "# проверяем на наличие дубликатов\n",
    "amazon_sale_report.duplicated(['Order ID', 'ASIN']).sum()"
   ]
  },
  {
   "cell_type": "code",
   "execution_count": 12,
   "id": "6c0ab530",
   "metadata": {},
   "outputs": [],
   "source": [
    "# удаляем дубликаты\n",
    "amazon_sale_report.drop_duplicates(['Order ID', 'ASIN'], inplace = True, ignore_index = True)"
   ]
  },
  {
   "cell_type": "code",
   "execution_count": 13,
   "id": "739be263",
   "metadata": {},
   "outputs": [],
   "source": [
    "# задаем формат даты для столбца 'Date'\n",
    "amazon_sale_report['Date'] = pd.to_datetime(amazon_sale_report['Date'])"
   ]
  },
  {
   "cell_type": "code",
   "execution_count": 14,
   "id": "6fbb6605",
   "metadata": {},
   "outputs": [],
   "source": [
    "# удаляем лишние столбцы\n",
    "amazon_sale_report.drop(columns=['Unnamed: 22', 'fulfilled-by', 'ship-country', 'currency', 'ship-postal-code'], inplace=True)"
   ]
  },
  {
   "cell_type": "code",
   "execution_count": 15,
   "id": "72f8fe08",
   "metadata": {},
   "outputs": [],
   "source": [
    "# приводим наименование столбцов к единомму формату\n",
    "amazon_sale_report = amazon_sale_report.rename(columns={\"Order ID\" : \"Order_ID\",\n",
    "                                                        \"Date\" : \"Date\",\n",
    "                                                        \"Status\" : \"Status\",\n",
    "                                                        \"Fulfilment\" : \"Fulfilment\",\n",
    "                                                        \"Sales Channel \" : \"Sales_Channel\",\n",
    "                                                        \"ship-service-level\" : \"Ship_Service_Level\",\n",
    "                                                        \"Style\" : \"Style\",\n",
    "                                                        \"SKU\" : \"SKU\",\n",
    "                                                        \"Category\" : \"Category\",\n",
    "                                                        \"Size\" : \"Size\",\n",
    "                                                        \"ASIN\" : \"ASIN\",\n",
    "                                                        \"Courier Status\" : \"Courier_Status\",\n",
    "                                                        \"Qty\" : \"Qty\",\n",
    "                                                        \"Amount\" : \"Amount\",\n",
    "                                                        \"ship-city\" : \"Ship_City\",\n",
    "                                                        \"ship-state\" : \"Ship_State\",\n",
    "                                                        \"promotion-ids\" : \"Promotion\",\n",
    "                                                        \"B2B\" : \"Customer_type\"})"
   ]
  },
  {
   "cell_type": "markdown",
   "id": "c2539111",
   "metadata": {},
   "source": [
    "### Заменяем пропуски"
   ]
  },
  {
   "cell_type": "code",
   "execution_count": 16,
   "id": "344abfe2",
   "metadata": {},
   "outputs": [],
   "source": [
    "# заменяем пропуски Courier_Status, Currency, Amount, Ship_City, Ship_State, Ship_Countryb\n",
    "amazon_sale_report['Courier_Status'].fillna('Unknown',  inplace = True)\n",
    "amazon_sale_report['Amount'].fillna(0,  inplace = True)\n",
    "amazon_sale_report['Ship_City'].fillna('Unknown',  inplace = True)\n",
    "amazon_sale_report['Ship_State'].fillna('Unknown',  inplace = True)\n",
    "amazon_sale_report['Promotion'].fillna('Unknown',  inplace = True)"
   ]
  },
  {
   "cell_type": "markdown",
   "id": "9a3f2d01",
   "metadata": {},
   "source": [
    "### Убираем дубликаты значений в столбце Ship_City"
   ]
  },
  {
   "cell_type": "code",
   "execution_count": 17,
   "id": "318cf4e4",
   "metadata": {},
   "outputs": [],
   "source": [
    "amazon_sale_report['Ship_City'] = amazon_sale_report['Ship_City'].str.lower()"
   ]
  },
  {
   "cell_type": "code",
   "execution_count": 18,
   "id": "8a232c9d",
   "metadata": {},
   "outputs": [],
   "source": [
    "amazon_sale_report['Ship_State'] = amazon_sale_report['Ship_State'].str.lower()"
   ]
  },
  {
   "cell_type": "code",
   "execution_count": 19,
   "id": "d8229d50",
   "metadata": {},
   "outputs": [],
   "source": [
    "amazon_sale_report.loc[amazon_sale_report['Ship_State'].isin(['rajasthan', 'rajsthan', 'rajshthan', 'rj']),'Ship_State'] = 'rajasthan'\n",
    "amazon_sale_report.loc[amazon_sale_report['Ship_State'].isin(['punjab/mohali/zirakpur', 'pb']),'Ship_State'] = 'punjab'\n",
    "amazon_sale_report.loc[amazon_sale_report['Ship_State'].isin(['ar']),'Ship_State'] = 'arunachal pradesh'\n",
    "amazon_sale_report.loc[amazon_sale_report['Ship_State'].isin(['nl']),'Ship_State'] = 'nagaland'\n",
    "amazon_sale_report.loc[amazon_sale_report['Ship_State'].isin(['puducherry']),'Ship_State'] = 'pondicherry'\n",
    "amazon_sale_report.loc[amazon_sale_report['Ship_State'].isin(['odisha']),'Ship_State'] = 'orissa'\n",
    "amazon_sale_report.loc[amazon_sale_report['Ship_State'].isin(['new delhi']),'Ship_State'] = 'delhi'"
   ]
  },
  {
   "cell_type": "markdown",
   "id": "7aad01b2",
   "metadata": {},
   "source": [
    "### Заменяем данные в столбце Customer_type"
   ]
  },
  {
   "cell_type": "code",
   "execution_count": 20,
   "id": "10e2e8ec",
   "metadata": {},
   "outputs": [],
   "source": [
    "amazon_sale_report['Customer_type'].replace(to_replace=[True,False],value=['business','customer'], inplace=True)"
   ]
  },
  {
   "cell_type": "markdown",
   "id": "e6ead997",
   "metadata": {},
   "source": [
    "### Добавляем столбцы с годом, номером месяца и названием месяца"
   ]
  },
  {
   "cell_type": "code",
   "execution_count": 21,
   "id": "d8bfb53e",
   "metadata": {},
   "outputs": [
    {
     "data": {
      "text/plain": [
       "1"
      ]
     },
     "execution_count": 21,
     "metadata": {},
     "output_type": "execute_result"
    }
   ],
   "source": [
    "# Проверяем сколько записей попало в дф от Марта\n",
    "march_dates = amazon_sale_report['Date'][amazon_sale_report['Date'].dt.month == 3]\n",
    "\n",
    "# Get the number of unique days in March\n",
    "march_dates.dt.day.nunique()"
   ]
  },
  {
   "cell_type": "code",
   "execution_count": 22,
   "id": "c7a4d767",
   "metadata": {},
   "outputs": [],
   "source": [
    "# Удаляем 1 запись марта из дф\n",
    "amazon_sale_report = amazon_sale_report[(amazon_sale_report['Date'].dt.month != 3)]"
   ]
  },
  {
   "cell_type": "code",
   "execution_count": 23,
   "id": "af6e8d6c",
   "metadata": {},
   "outputs": [],
   "source": [
    "# создаем столбец Month_name\n",
    "amazon_sale_report['Month_name'] = amazon_sale_report['Date'].dt.strftime('%m')"
   ]
  },
  {
   "cell_type": "code",
   "execution_count": 24,
   "id": "b549e54d",
   "metadata": {
    "scrolled": true
   },
   "outputs": [],
   "source": [
    "amazon_sale_report['Month_name'].replace(['04', '05', '06'], ['April', 'May', 'June'], inplace=True)"
   ]
  },
  {
   "cell_type": "code",
   "execution_count": 25,
   "id": "ed3a34fb",
   "metadata": {},
   "outputs": [],
   "source": [
    "# Превращаем Month_name в категориальный столбец, для этого создаем переменную\n",
    "month_order = ['April', 'May', 'June']\n",
    "\n",
    "amazon_sale_report['Month_name'] = pd.Categorical(amazon_sale_report['Month_name'], categories=month_order, ordered=True)"
   ]
  },
  {
   "cell_type": "code",
   "execution_count": 26,
   "id": "aea9d8ea",
   "metadata": {
    "scrolled": true
   },
   "outputs": [
    {
     "data": {
      "text/plain": [
       "['April', 'May', 'June']\n",
       "Categories (3, object): ['April' < 'May' < 'June']"
      ]
     },
     "execution_count": 26,
     "metadata": {},
     "output_type": "execute_result"
    }
   ],
   "source": [
    "amazon_sale_report['Month_name'].unique()"
   ]
  },
  {
   "cell_type": "markdown",
   "id": "84d40658",
   "metadata": {},
   "source": [
    "### Size конвектируем в тип категория"
   ]
  },
  {
   "cell_type": "code",
   "execution_count": 27,
   "id": "fd242a29",
   "metadata": {},
   "outputs": [],
   "source": [
    "size_order = ['Free','XS', 'S', 'M', 'L', 'XL', 'XXL', '3XL', '4XL', '5XL', '6XL']\n",
    "\n",
    "amazon_sale_report['Size'] = pd.Categorical(amazon_sale_report['Size'], categories=size_order, ordered=True)"
   ]
  },
  {
   "cell_type": "markdown",
   "id": "7ccacddf",
   "metadata": {},
   "source": [
    "### Добавляем столбец Orders_status"
   ]
  },
  {
   "cell_type": "code",
   "execution_count": 28,
   "id": "de1116bc",
   "metadata": {},
   "outputs": [],
   "source": [
    "amazon_sale_report['Orders_status'] = amazon_sale_report['Status'].copy()"
   ]
  },
  {
   "cell_type": "code",
   "execution_count": 29,
   "id": "408a5a4b",
   "metadata": {},
   "outputs": [],
   "source": [
    "amazon_sale_report.loc[amazon_sale_report['Orders_status'].isin(['Shipped - Delivered to Buyer']), 'Orders_status'] = 'Delivered to Buyer'\n",
    "amazon_sale_report.loc[amazon_sale_report['Orders_status'].isin(['Shipped - Returned to Seller']), 'Orders_status'] = 'Returned to Seller'\n",
    "amazon_sale_report.loc[amazon_sale_report['Orders_status'].isin(['Shipped - Picked Up']), 'Orders_status'] = 'Picked Up'\n",
    "amazon_sale_report.loc[amazon_sale_report['Orders_status'].isin(['Pending - Waiting for Pick Up']), 'Orders_status'] = 'Waiting for Pick Up'\n",
    "amazon_sale_report.loc[amazon_sale_report['Orders_status'].isin(['Shipped - Returning to Seller']), 'Orders_status'] = 'Returning to Seller'\n",
    "amazon_sale_report.loc[amazon_sale_report['Orders_status'].isin(['Shipped - Out for Delivery']), 'Orders_status'] = 'Out for Delivery'\n",
    "amazon_sale_report.loc[amazon_sale_report['Orders_status'].isin(['Shipped - Rejected by Buyer']), 'Orders_status'] = 'Rejected by Buyer'\n",
    "amazon_sale_report.loc[amazon_sale_report['Orders_status'].isin(['Shipped - Lost in Transit']), 'Orders_status'] = 'Lost in Transit'\n",
    "amazon_sale_report.loc[amazon_sale_report['Orders_status'].isin(['Shipped - Damaged']), 'Orders_status'] = 'Damaged'"
   ]
  },
  {
   "cell_type": "markdown",
   "id": "b47325ee",
   "metadata": {},
   "source": [
    "### Проверяем, что получилось"
   ]
  },
  {
   "cell_type": "code",
   "execution_count": 30,
   "id": "6e4b505a",
   "metadata": {
    "scrolled": false
   },
   "outputs": [
    {
     "name": "stdout",
     "output_type": "stream",
     "text": [
      "<class 'pandas.core.frame.DataFrame'>\n",
      "Int64Index: 128797 entries, 0 to 128967\n",
      "Data columns (total 20 columns):\n",
      " #   Column              Non-Null Count   Dtype         \n",
      "---  ------              --------------   -----         \n",
      " 0   Order_ID            128797 non-null  object        \n",
      " 1   Date                128797 non-null  datetime64[ns]\n",
      " 2   Status              128797 non-null  object        \n",
      " 3   Fulfilment          128797 non-null  object        \n",
      " 4   Sales_Channel       128797 non-null  object        \n",
      " 5   Ship_Service_Level  128797 non-null  object        \n",
      " 6   Style               128797 non-null  object        \n",
      " 7   SKU                 128797 non-null  object        \n",
      " 8   Category            128797 non-null  object        \n",
      " 9   Size                128797 non-null  category      \n",
      " 10  ASIN                128797 non-null  object        \n",
      " 11  Courier_Status      128797 non-null  object        \n",
      " 12  Qty                 128797 non-null  int64         \n",
      " 13  Amount              128797 non-null  float64       \n",
      " 14  Ship_City           128797 non-null  object        \n",
      " 15  Ship_State          128797 non-null  object        \n",
      " 16  Promotion           128797 non-null  object        \n",
      " 17  Customer_type       128797 non-null  object        \n",
      " 18  Month_name          128797 non-null  category      \n",
      " 19  Orders_status       128797 non-null  object        \n",
      "dtypes: category(2), datetime64[ns](1), float64(1), int64(1), object(15)\n",
      "memory usage: 18.9+ MB\n"
     ]
    }
   ],
   "source": [
    "amazon_sale_report.info()"
   ]
  },
  {
   "cell_type": "code",
   "execution_count": 31,
   "id": "6dc92951",
   "metadata": {},
   "outputs": [
    {
     "data": {
      "text/html": [
       "<div>\n",
       "<style scoped>\n",
       "    .dataframe tbody tr th:only-of-type {\n",
       "        vertical-align: middle;\n",
       "    }\n",
       "\n",
       "    .dataframe tbody tr th {\n",
       "        vertical-align: top;\n",
       "    }\n",
       "\n",
       "    .dataframe thead th {\n",
       "        text-align: right;\n",
       "    }\n",
       "</style>\n",
       "<table border=\"1\" class=\"dataframe\">\n",
       "  <thead>\n",
       "    <tr style=\"text-align: right;\">\n",
       "      <th></th>\n",
       "      <th>Unique values</th>\n",
       "    </tr>\n",
       "  </thead>\n",
       "  <tbody>\n",
       "    <tr>\n",
       "      <th>Order_ID</th>\n",
       "      <td>[405-8078784-5731545, 171-9198151-1101146, 404...</td>\n",
       "    </tr>\n",
       "    <tr>\n",
       "      <th>Date</th>\n",
       "      <td>[2022-04-30T00:00:00.000000000, 2022-04-29T00:...</td>\n",
       "    </tr>\n",
       "    <tr>\n",
       "      <th>Status</th>\n",
       "      <td>[Cancelled, Shipped - Delivered to Buyer, Ship...</td>\n",
       "    </tr>\n",
       "    <tr>\n",
       "      <th>Fulfilment</th>\n",
       "      <td>[Merchant, Amazon]</td>\n",
       "    </tr>\n",
       "    <tr>\n",
       "      <th>Sales_Channel</th>\n",
       "      <td>[Amazon.in, Non-Amazon]</td>\n",
       "    </tr>\n",
       "    <tr>\n",
       "      <th>Ship_Service_Level</th>\n",
       "      <td>[Standard, Expedited]</td>\n",
       "    </tr>\n",
       "    <tr>\n",
       "      <th>Style</th>\n",
       "      <td>[SET389, JNE3781, JNE3371, J0341, JNE3671, SET...</td>\n",
       "    </tr>\n",
       "    <tr>\n",
       "      <th>SKU</th>\n",
       "      <td>[SET389-KR-NP-S, JNE3781-KR-XXXL, JNE3371-KR-X...</td>\n",
       "    </tr>\n",
       "    <tr>\n",
       "      <th>Category</th>\n",
       "      <td>[Set, kurta, Western Dress, Top, Ethnic Dress,...</td>\n",
       "    </tr>\n",
       "    <tr>\n",
       "      <th>Size</th>\n",
       "      <td>['S', '3XL', 'XL', 'L', 'XXL', ..., '6XL', 'M'...</td>\n",
       "    </tr>\n",
       "    <tr>\n",
       "      <th>ASIN</th>\n",
       "      <td>[B09KXVBD7Z, B09K3WFS32, B07WV4JV4D, B099NRCT7...</td>\n",
       "    </tr>\n",
       "    <tr>\n",
       "      <th>Courier_Status</th>\n",
       "      <td>[Unknown, Shipped, Cancelled, Unshipped]</td>\n",
       "    </tr>\n",
       "    <tr>\n",
       "      <th>Qty</th>\n",
       "      <td>[0, 1, 2, 15, 3, 9, 13, 5, 4, 8]</td>\n",
       "    </tr>\n",
       "    <tr>\n",
       "      <th>Amount</th>\n",
       "      <td>[647.62, 406.0, 329.0, 753.33, 574.0, 824.0, 6...</td>\n",
       "    </tr>\n",
       "    <tr>\n",
       "      <th>Ship_City</th>\n",
       "      <td>[mumbai, bengaluru, navi mumbai, puducherry, c...</td>\n",
       "    </tr>\n",
       "    <tr>\n",
       "      <th>Ship_State</th>\n",
       "      <td>[maharashtra, karnataka, pondicherry, tamil na...</td>\n",
       "    </tr>\n",
       "    <tr>\n",
       "      <th>Promotion</th>\n",
       "      <td>[Unknown, Amazon PLCC Free-Financing Universal...</td>\n",
       "    </tr>\n",
       "    <tr>\n",
       "      <th>Customer_type</th>\n",
       "      <td>[customer, business]</td>\n",
       "    </tr>\n",
       "    <tr>\n",
       "      <th>Month_name</th>\n",
       "      <td>['April', 'May', 'June']\n",
       "Categories (3, object...</td>\n",
       "    </tr>\n",
       "    <tr>\n",
       "      <th>Orders_status</th>\n",
       "      <td>[Cancelled, Delivered to Buyer, Shipped, Retur...</td>\n",
       "    </tr>\n",
       "  </tbody>\n",
       "</table>\n",
       "</div>"
      ],
      "text/plain": [
       "                                                        Unique values\n",
       "Order_ID            [405-8078784-5731545, 171-9198151-1101146, 404...\n",
       "Date                [2022-04-30T00:00:00.000000000, 2022-04-29T00:...\n",
       "Status              [Cancelled, Shipped - Delivered to Buyer, Ship...\n",
       "Fulfilment                                         [Merchant, Amazon]\n",
       "Sales_Channel                                 [Amazon.in, Non-Amazon]\n",
       "Ship_Service_Level                              [Standard, Expedited]\n",
       "Style               [SET389, JNE3781, JNE3371, J0341, JNE3671, SET...\n",
       "SKU                 [SET389-KR-NP-S, JNE3781-KR-XXXL, JNE3371-KR-X...\n",
       "Category            [Set, kurta, Western Dress, Top, Ethnic Dress,...\n",
       "Size                ['S', '3XL', 'XL', 'L', 'XXL', ..., '6XL', 'M'...\n",
       "ASIN                [B09KXVBD7Z, B09K3WFS32, B07WV4JV4D, B099NRCT7...\n",
       "Courier_Status               [Unknown, Shipped, Cancelled, Unshipped]\n",
       "Qty                                  [0, 1, 2, 15, 3, 9, 13, 5, 4, 8]\n",
       "Amount              [647.62, 406.0, 329.0, 753.33, 574.0, 824.0, 6...\n",
       "Ship_City           [mumbai, bengaluru, navi mumbai, puducherry, c...\n",
       "Ship_State          [maharashtra, karnataka, pondicherry, tamil na...\n",
       "Promotion           [Unknown, Amazon PLCC Free-Financing Universal...\n",
       "Customer_type                                    [customer, business]\n",
       "Month_name          ['April', 'May', 'June']\n",
       "Categories (3, object...\n",
       "Orders_status       [Cancelled, Delivered to Buyer, Shipped, Retur..."
      ]
     },
     "execution_count": 31,
     "metadata": {},
     "output_type": "execute_result"
    }
   ],
   "source": [
    "amazon_sale_report.apply(pd.unique).to_frame(name='Unique values')"
   ]
  },
  {
   "cell_type": "markdown",
   "id": "0b197548",
   "metadata": {},
   "source": [
    "### Исследуем данные"
   ]
  },
  {
   "cell_type": "markdown",
   "id": "ae938d68",
   "metadata": {},
   "source": [
    "### Доход"
   ]
  },
  {
   "cell_type": "code",
   "execution_count": 32,
   "id": "f371b634",
   "metadata": {
    "scrolled": false
   },
   "outputs": [
    {
     "name": "stdout",
     "output_type": "stream",
     "text": [
      "Доход за Q2: 70,188,397.00\n",
      "Доход за Апрель: 25,669,247.00\n",
      "Доход за Май: 23,469,225.00, что на 8.57 % меньше чем в Апреле\n",
      "Доход за Июнь: 21,049,925.00, что на 10.31 % меньше чем в Мае\n",
      "С Апреля по Июнь доход уменьшился на -18.00%\n"
     ]
    },
    {
     "data": {
      "image/png": "[encoded data removed]",
      "text/plain": [
       "<Figure size 576x432 with 1 Axes>"
      ]
     },
     "metadata": {
      "needs_background": "light"
     },
     "output_type": "display_data"
    }
   ],
   "source": [
    "revenue = amazon_sale_report. \\\n",
    "    query('Orders_status != [\"Cancelled\", \"Returned to Seller\", \"Returning to Seller\", \"Rejected by Buyer\", \"Lost in Transit\", \"Damaged\"]')\n",
    "revenue_by_month = revenue.groupby('Month_name').Amount.sum()\n",
    "percent_decrease_apr_to_may = (revenue_by_month['April'] - revenue_by_month['May']) / revenue_by_month['April'] * 100\n",
    "percent_decrease_may_to_jun = (revenue_by_month['May'] - revenue_by_month['June']) / revenue_by_month['May']  * 100\n",
    "total_decrease = (revenue_by_month['June'] - revenue_by_month['April']) / revenue_by_month['April'] * 100\n",
    "print(f\"Доход за Q2: {revenue.Amount.sum():,.2f}\")\n",
    "print(f\"Доход за Апрель: {revenue_by_month['April']:,.2f}\")\n",
    "print(f\"Доход за Май: {revenue_by_month['May']:,.2f}, что на {percent_decrease_apr_to_may:.2f} % меньше чем в Апреле\")\n",
    "print(f\"Доход за Июнь: {revenue_by_month['June']:,.2f}, что на {percent_decrease_may_to_jun:.2f} % меньше чем в Мае\")\n",
    "print(f\"С Апреля по Июнь доход уменьшился на {total_decrease:.2f}%\")\n",
    "\n",
    "fig, ax = plt.subplots(figsize=(8, 6))\n",
    "\n",
    "sns.set_style('whitegrid')\n",
    "sns.barplot(x=revenue_by_month.index, y=revenue_by_month.values, color='#878787')\n",
    "\n",
    "ax.set_title('Доход Amazon за Q2', fontsize=20, x=.19, y=1.05)\n",
    "ax.text(.06, 1.01, f\"С Апреля по Июнь доход уменьшился на {total_decrease:.2f}%\", fontsize=15, color='#878787', transform=ax.transAxes)\n",
    "ax.set_xlabel(None)\n",
    "\n",
    "\n",
    "ax.spines['top'].set_visible(False)\n",
    "ax.spines['right'].set_visible(False)\n",
    "ax.spines['left'].set_visible(False)\n",
    "ax.spines['bottom'].set_linewidth(2)\n",
    "ax.spines['bottom'].set_color('black')\n",
    "plt.show()"
   ]
  },
  {
   "cell_type": "markdown",
   "id": "b526d83b",
   "metadata": {},
   "source": [
    "### Доход по категориям товаров"
   ]
  },
  {
   "cell_type": "code",
   "execution_count": 33,
   "id": "1fe9a5f9",
   "metadata": {
    "scrolled": false
   },
   "outputs": [
    {
     "data": {
      "image/png": "[encoded data removed]",
      "text/plain": [
       "<Figure size 576x432 with 1 Axes>"
      ]
     },
     "metadata": {},
     "output_type": "display_data"
    }
   ],
   "source": [
    "revenue_by_category = revenue.groupby('Category')['Amount'].sum().sort_values(ascending=False)\n",
    "percent_revenue_by_category = ((revenue_by_category / revenue_by_category.sum()) * 100).sort_values(ascending=False)\n",
    "top_category = revenue_by_category[:3].index.tolist()\n",
    "revenue_by_top_category = revenue_by_category[:3].sum() / revenue_by_category.sum() * 100\n",
    "\n",
    "fig, ax = plt.subplots(figsize=(8, 6))\n",
    "\n",
    "sns.set_style('whitegrid')\n",
    "sns.barplot(x=percent_revenue_by_category.values, y=percent_revenue_by_category.index, color='#878787')\n",
    "ax.text(.00, 1.01, f\"Топ 3 категорий {top_category} составляют {revenue_by_top_category:,.0f}% от всей выручки.\", fontsize=15, color='#878787', transform=ax.transAxes)\n",
    "ax.set_title('Доход по категориям в %', fontsize=20, x=.19, y=1.05)\n",
    "\n",
    "ax.spines['top'].set_visible(False)\n",
    "ax.spines['right'].set_visible(False)\n",
    "ax.spines['left'].set_visible(False)\n",
    "ax.spines['bottom'].set_linewidth(2)\n",
    "ax.spines['bottom'].set_color('black')\n",
    "plt.show()"
   ]
  },
  {
   "cell_type": "markdown",
   "id": "db5db3a1",
   "metadata": {},
   "source": [
    "### Доход от рекламы"
   ]
  },
  {
   "cell_type": "code",
   "execution_count": 34,
   "id": "701954de",
   "metadata": {
    "scrolled": false
   },
   "outputs": [
    {
     "name": "stdout",
     "output_type": "stream",
     "text": [
      "Общий доход от рекламы: 52,110,849.00 INR - 74.24% от общего дохода за Q2 2022\n",
      "Доход от рекламы за Апрель: 19,460,926.00 INR\n",
      "Доход от рекламы за Май: 17,589,773.00 INR, что на 9.61 % меньше чем в Апреле\n",
      "Доход от рекламы за Июнь: 15,060,150.00 INR, что на 14.38 % меньше чем в Мае\n",
      "С Апреля по Июнь доход от рекламы уменьшился на -22.61%\n"
     ]
    },
    {
     "data": {
      "image/png": "[encoded data removed]",
      "text/plain": [
       "<Figure size 576x432 with 1 Axes>"
      ]
     },
     "metadata": {},
     "output_type": "display_data"
    },
    {
     "data": {
      "image/png": "[encoded data removed]",
      "text/plain": [
       "<Figure size 576x432 with 1 Axes>"
      ]
     },
     "metadata": {},
     "output_type": "display_data"
    }
   ],
   "source": [
    "promotion_orders = revenue.query('Promotion != \"Unknown\"')\n",
    "revenue_by_month_by_promotion = promotion_orders.groupby('Month_name').Amount.sum()\n",
    "promotion_percent_decrease_apr_to_may = (revenue_by_month_by_promotion['April'] - revenue_by_month_by_promotion['May']) / revenue_by_month_by_promotion['April'] * 100\n",
    "promotion_percent_decrease_may_to_jun = (revenue_by_month_by_promotion['May'] - revenue_by_month_by_promotion['June']) / revenue_by_month_by_promotion['May']  * 100\n",
    "total_promotion_decrease = (revenue_by_month_by_promotion['June'] - revenue_by_month_by_promotion['April']) / revenue_by_month_by_promotion['April'] * 100\n",
    "\n",
    "promotion_orders_by_category = promotion_orders.groupby('Category')['Amount'].sum().sort_values(ascending=False)\n",
    "percent_promotion_revenue_by_category = ((promotion_orders_by_category / promotion_orders_by_category.sum()) * 100).sort_values(ascending=False)\n",
    "promotion_top_category = promotion_orders_by_category[:3].index.tolist()\n",
    "revenue_by_promotion_top_category = promotion_orders_by_category[:3].sum() / promotion_orders_by_category.sum() * 100\n",
    "\n",
    "print(f\"Общий доход от рекламы: {promotion_orders.Amount.sum():,.2f} INR - {(promotion_orders.Amount.sum() / revenue.Amount.sum() * 100):.2f}% от общего дохода за Q2 2022\")\n",
    "print(f\"Доход от рекламы за Апрель: {revenue_by_month_by_promotion['April']:,.2f} INR\")\n",
    "print(f\"Доход от рекламы за Май: {revenue_by_month_by_promotion['May']:,.2f} INR, что на {promotion_percent_decrease_apr_to_may:.2f} % меньше чем в Апреле\")\n",
    "print(f\"Доход от рекламы за Июнь: {revenue_by_month_by_promotion['June']:,.2f} INR, что на {promotion_percent_decrease_may_to_jun:.2f} % меньше чем в Мае\")\n",
    "print(f\"С Апреля по Июнь доход от рекламы уменьшился на {total_promotion_decrease:.2f}%\")\n",
    "\n",
    "fig, ax = plt.subplots(figsize=(8, 6))\n",
    "\n",
    "sns.set_style('whitegrid')\n",
    "sns.barplot(x=revenue_by_month_by_promotion.index, y=revenue_by_month_by_promotion.values, color='#878787')\n",
    "ax.set_title('Доход Amazon от рекламы за Q2 по месяцам', fontsize=20, x=.19, y=1.05)\n",
    "ax.text(.06, 1.01, f\"С Апреля по Июнь доход уменьшился на {total_promotion_decrease:.2f}%\", fontsize=15, color='#878787', transform=ax.transAxes)\n",
    "ax.set_xlabel(None)\n",
    "ax.spines['top'].set_visible(False)\n",
    "ax.spines['right'].set_visible(False)\n",
    "ax.spines['left'].set_visible(False)\n",
    "ax.spines['bottom'].set_linewidth(2)\n",
    "ax.spines['bottom'].set_color('black')\n",
    "plt.show()\n",
    "\n",
    "\n",
    "fig, ax = plt.subplots(figsize=(8, 6))\n",
    "\n",
    "sns.set_style('whitegrid')\n",
    "sns.barplot(x=percent_promotion_revenue_by_category.values, y=percent_promotion_revenue_by_category.index, color='#878787')\n",
    "ax.text(.00, 1.01, f\"Топ 3 категорий {promotion_top_category} составляют {revenue_by_promotion_top_category:,.0f}% от всей выручки.\", fontsize=15, color='#878787', transform=ax.transAxes)\n",
    "ax.set_title('Доход от рекламы по категориям в %', fontsize=20, x=.19, y=1.05)\n",
    "ax.spines['top'].set_visible(False)\n",
    "ax.spines['right'].set_visible(False)\n",
    "ax.spines['left'].set_visible(False)\n",
    "ax.spines['bottom'].set_linewidth(2)\n",
    "ax.spines['bottom'].set_color('black')\n",
    "plt.show()"
   ]
  },
  {
   "cell_type": "markdown",
   "id": "3355ef72",
   "metadata": {},
   "source": [
    "### Доход по штатам"
   ]
  },
  {
   "cell_type": "code",
   "execution_count": 42,
   "id": "fa8d4bfa",
   "metadata": {
    "scrolled": false
   },
   "outputs": [
    {
     "data": {
      "image/png": "[encoded data removed]",
      "text/plain": [
       "<Figure size 576x432 with 1 Axes>"
      ]
     },
     "metadata": {},
     "output_type": "display_data"
    }
   ],
   "source": [
    "revenue_by_ship_state = revenue.groupby('Ship_State')['Amount'].sum().sort_values(ascending=False)\n",
    "revenue_by_ship_state_top = revenue_by_ship_state[:10]\n",
    "percent_revenue_by_ship_state = round(revenue_by_ship_state_top / revenue_by_ship_state.sum() * 100)\n",
    "percent_revenue_by_ship_state_top = round(revenue_by_ship_state_top.sum() / revenue_by_ship_state.sum() * 100)\n",
    "\n",
    "fig, ax = plt.subplots(figsize=(8, 6))\n",
    "\n",
    "sns.set_style('whitegrid')\n",
    "sns.barplot(x=percent_revenue_by_ship_state.values, y=percent_revenue_by_ship_state.index, color='#878787')\n",
    "ax.text(.00, 1.01, f\"составляет {percent_revenue_by_ship_state_top:,.0f}% от всей выручки.\", fontsize=15, color='#878787', transform=ax.transAxes)\n",
    "ax.set_title('Доход от Топ 10 штатов (%)', fontsize=20, x=.19, y=1.05)\n",
    "ax.spines['top'].set_visible(False)\n",
    "ax.spines['right'].set_visible(False)\n",
    "ax.spines['left'].set_visible(False)\n",
    "ax.spines['bottom'].set_linewidth(2)\n",
    "ax.spines['bottom'].set_color('black')\n",
    "plt.show()"
   ]
  },
  {
   "cell_type": "markdown",
   "id": "2901202a",
   "metadata": {},
   "source": [
    "### Исследование средней стоимости товара и среднее количество в заказе"
   ]
  },
  {
   "cell_type": "code",
   "execution_count": 36,
   "id": "2517a00a",
   "metadata": {},
   "outputs": [
    {
     "name": "stdout",
     "output_type": "stream",
     "text": [
      "Средние стоимость и количество товара в заказе за месяц:\n",
      "            Average_order_amount  Average_order_quantity\n",
      "Date                                                    \n",
      "2022-04-30                625.67                     1.0\n",
      "2022-05-31                662.24                     1.0\n",
      "2022-06-30                659.75                     1.0\n",
      "\n",
      "\n",
      "Средняя цена за товар по категориям товаров:\n",
      "        Category  Avg_price  Avg_price_promotion  Percent\n",
      "0            Set     832.15               844.66     1.50\n",
      "1          Saree     800.68               804.64     0.49\n",
      "2  Western Dress     763.95               763.08    -0.11\n",
      "3   Ethnic Dress     722.50               749.86     3.79\n",
      "4            Top     524.96               534.72     1.86\n",
      "5         Blouse     516.16               538.15     4.26\n",
      "6          kurta     455.72               469.29     2.98\n",
      "7         Bottom     356.88               370.56     3.83\n",
      "8        Dupatta     305.00               305.00     0.00\n",
      "\n",
      "\n",
      "Средняя цена за товар по штатам:\n",
      "Ship_State\n",
      "ladakh                936.71\n",
      "lakshadweep           813.67\n",
      "nagaland              810.55\n",
      "sikkim                738.14\n",
      "manipur               721.94\n",
      "bihar                 721.91\n",
      "jammu & kashmir       702.14\n",
      "arunachal pradesh     695.48\n",
      "himachal pradesh      693.83\n",
      "orissa                690.68\n",
      "rajasthan             690.58\n",
      "haryana               687.64\n",
      "uttar pradesh         685.37\n",
      "jharkhand             678.78\n",
      "madhya pradesh        678.15\n",
      "uttarakhand           670.93\n",
      "punjab                668.19\n",
      "chandigarh            662.70\n",
      "delhi                 661.25\n",
      "chhattisgarh          660.79\n",
      "andaman & nicobar     658.17\n",
      "unknown               652.70\n",
      "tripura               652.63\n",
      "assam                 651.93\n",
      "telangana             648.92\n",
      "dadra and nagar       644.95\n",
      "karnataka             640.48\n",
      "gujarat               637.49\n",
      "andhra pradesh        635.90\n",
      "maharashtra           633.61\n",
      "west bengal           630.68\n",
      "kerala                624.76\n",
      "tamil nadu            602.30\n",
      "meghalaya             599.41\n",
      "goa                   589.61\n",
      "pondicherry           588.94\n",
      "mizoram               582.90\n",
      "Name: Amount, dtype: float64\n"
     ]
    }
   ],
   "source": [
    "monthly_order_data = revenue.groupby(pd.Grouper(key='Date', freq='M')).agg({'Amount': 'mean', 'Qty': 'mean'}).round(2)\n",
    "monthly_order_data = monthly_order_data.rename(columns={'Amount': 'Average_order_amount', 'Qty': 'Average_order_quantity'})\n",
    "print('Средние стоимость и количество товара в заказе за месяц:')\n",
    "print(monthly_order_data)\n",
    "print(\"\\n\")\n",
    "avg_price_by_category = revenue.groupby('Category')['Amount'].mean().sort_values(ascending=False).round(2).reset_index()\n",
    "avg_price_by_category = avg_price_by_category.rename(columns={\"Amount\" : \"Avg_price\"})\n",
    "avg_price_by_promotion = promotion_orders.groupby('Category')['Amount'].mean().round(2).sort_values(ascending=False).round(2).reset_index()\n",
    "avg_price_by_promotion = avg_price_by_promotion.rename(columns={\"Amount\" : \"Avg_price_promotion\"})\n",
    "avg_price = avg_price_by_category.merge(avg_price_by_promotion)\n",
    "avg_price['Percent'] = round(avg_price.Avg_price_promotion / avg_price.Avg_price * 100, 2)-100\n",
    "print('Средняя цена за товар по категориям товаров:')\n",
    "print(avg_price)\n",
    "print(\"\\n\")\n",
    "avg_price_by_ship_state = revenue.groupby('Ship_State')['Amount'].mean().round(2).sort_values(ascending=False).round(2)\n",
    "print('Средняя цена за товар по штатам:')\n",
    "print(avg_price_by_ship_state)\n"
   ]
  },
  {
   "cell_type": "markdown",
   "id": "861e99f1",
   "metadata": {},
   "source": [
    "### Исследование количества заказов"
   ]
  },
  {
   "cell_type": "code",
   "execution_count": 37,
   "id": "1bff01f6",
   "metadata": {
    "scrolled": false
   },
   "outputs": [
    {
     "data": {
      "image/png": "[encoded data removed]",
      "text/plain": [
       "<Figure size 576x432 with 1 Axes>"
      ]
     },
     "metadata": {},
     "output_type": "display_data"
    },
    {
     "data": {
      "image/png": "[encoded data removed]",
      "text/plain": [
       "<Figure size 576x432 with 1 Axes>"
      ]
     },
     "metadata": {},
     "output_type": "display_data"
    }
   ],
   "source": [
    "count_order_by_month = revenue.groupby('Month_name')['Order_ID'].nunique()\n",
    "total_orders_decrease = (count_order_by_month['June'] - count_order_by_month['April']) / count_order_by_month['April'] * 100\n",
    "\n",
    "fig, ax = plt.subplots(figsize=(8, 6))\n",
    "\n",
    "sns.set_style('whitegrid')\n",
    "sns.barplot(x=count_order_by_month.index, y=count_order_by_month.values, color='#878787')\n",
    "\n",
    "ax.set_title('Общее количество заказов за Q2', fontsize=20, x=.19, y=1.05)\n",
    "ax.text(.06, 1.01, f\"С Апреля по Июнь количество заказов ууменьшилось на {total_decrease:.2f}%\", fontsize=15, color='#878787', transform=ax.transAxes)\n",
    "ax.set_xlabel(None)\n",
    "\n",
    "\n",
    "ax.spines['top'].set_visible(False)\n",
    "ax.spines['right'].set_visible(False)\n",
    "ax.spines['left'].set_visible(False)\n",
    "ax.spines['bottom'].set_linewidth(2)\n",
    "ax.spines['bottom'].set_color('black')\n",
    "plt.show()\n",
    "\n",
    "count_orders_by_category = revenue.groupby('Category')['Order_ID'].nunique().sort_values(ascending=False)\n",
    "percent_orders_by_category = round(((count_orders_by_category / count_orders_by_category.sum()) * 100).sort_values(ascending=False), 2)\n",
    "top_orders_category = count_orders_by_category[:3].index.tolist()\n",
    "orders_by_top_category = count_orders_by_category[:3].sum() / count_orders_by_category.sum() * 100\n",
    "\n",
    "fig, ax = plt.subplots(figsize=(8, 6))\n",
    "\n",
    "sns.set_style('whitegrid')\n",
    "sns.barplot(x=percent_orders_by_category.values, y=percent_orders_by_category.index, color='#878787')\n",
    "ax.text(.00, 1.01, f\"Топ 3 категорий {top_orders_category} составляют {orders_by_top_category:,.0f}% от всех заказов.\", fontsize=15, color='#878787', transform=ax.transAxes)\n",
    "ax.set_title('Количество заказов по категориям в %', fontsize=20, x=.19, y=1.05)\n",
    "\n",
    "ax.spines['top'].set_visible(False)\n",
    "ax.spines['right'].set_visible(False)\n",
    "ax.spines['left'].set_visible(False)\n",
    "ax.spines['bottom'].set_linewidth(2)\n",
    "ax.spines['bottom'].set_color('black')\n",
    "plt.show()"
   ]
  },
  {
   "cell_type": "markdown",
   "id": "b55444ae",
   "metadata": {},
   "source": [
    "### Отмененные и возвращенные заказы"
   ]
  },
  {
   "cell_type": "code",
   "execution_count": 38,
   "id": "3a231902",
   "metadata": {
    "scrolled": false
   },
   "outputs": [
    {
     "name": "stdout",
     "output_type": "stream",
     "text": [
      "Количество отмененных заказов: 17171, которые составляют 14.28% от всех заказов.\n",
      "Количество возвращенных заказов: 1992, которые составляют 1.66% от всех заказов.\n",
      "Они составлют 15.94 % от всех заказов\n",
      "\n",
      "\n",
      "Процент отмененных заказов по категориям товаров:\n",
      "Category\n",
      "Set              40.66%\n",
      "kurta            39.69%\n",
      "Western Dress    12.04%\n",
      "Top               7.17%\n",
      "Ethnic Dress      0.83%\n",
      "Blouse            0.66%\n",
      "Bottom            0.31%\n",
      "Saree             0.12%\n",
      "Name: Order_ID, dtype: object\n",
      "\n",
      "\n",
      "Процент возвращенных заказов по категориям товаров:\n",
      "Category\n",
      "Set              40.41%\n",
      "kurta            35.89%\n",
      "Western Dress    16.77%\n",
      "Top               6.38%\n",
      "Ethnic Dress      0.80%\n",
      "Blouse            0.60%\n",
      "Bottom            0.30%\n",
      "Saree             0.05%\n",
      "Name: Order_ID, dtype: object\n",
      "\n",
      "\n"
     ]
    }
   ],
   "source": [
    "cancelled_orders = amazon_sale_report[amazon_sale_report['Orders_status'].isin([\"Cancelled\", \"Lost in Transit\"])]\n",
    "total_cancelled = cancelled_orders['Order_ID'].nunique()\n",
    "percent_cancelled = round(total_cancelled / amazon_sale_report['Order_ID'].nunique() * 100, 2)\n",
    "cancelled_orders_by_category = round(cancelled_orders.groupby('Category')['Order_ID'].nunique().sort_values(ascending=False) / total_cancelled * 100, 2)\n",
    "returned_orders = amazon_sale_report[amazon_sale_report['Orders_status'].isin([\"Returned to Seller\", \"Returning to Seller\", \"Rejected by Buyer\", \"Damaged\"])]\n",
    "total_returned = returned_orders['Order_ID'].nunique()\n",
    "percent_returned = round(total_returned / amazon_sale_report['Order_ID'].nunique() * 100, 2)\n",
    "returned_orders_by_category = round(returned_orders.groupby('Category')['Order_ID'].nunique().sort_values(ascending=False) / total_returned * 100, 2)\n",
    "total_cancelled_returned = total_cancelled + total_returned\n",
    "percent_cancelled_returned = total_cancelled_returned / amazon_sale_report['Order_ID'].nunique() * 100\n",
    "\n",
    "print(f\"Количество отмененных заказов: {total_cancelled}, которые составляют {percent_cancelled}% от всех заказов.\")\n",
    "print(f\"Количество возвращенных заказов: {total_returned}, которые составляют {percent_returned}% от всех заказов.\")\n",
    "print(f\"Они составлют {percent_cancelled_returned:.2f} % от всех заказов\")\n",
    "print('\\n')\n",
    "print('Процент отмененных заказов по категориям товаров:')\n",
    "print(cancelled_orders_by_category.apply(lambda x: \"{:.2f}%\".format(x)))\n",
    "print('\\n')\n",
    "print('Процент возвращенных заказов по категориям товаров:')\n",
    "print(returned_orders_by_category.apply(lambda x: \"{:.2f}%\".format(x)))\n",
    "print('\\n')"
   ]
  },
  {
   "cell_type": "markdown",
   "id": "ca368bbe",
   "metadata": {},
   "source": [
    "### Популярные категории в каждом штате"
   ]
  },
  {
   "cell_type": "code",
   "execution_count": 39,
   "id": "d0d73e2d",
   "metadata": {
    "scrolled": false
   },
   "outputs": [
    {
     "name": "stdout",
     "output_type": "stream",
     "text": [
      "Самые популярные категории в штатах:\n",
      "             Ship_State Category   Qty\n",
      "0    andaman & nicobar       Set    98\n",
      "11       andhra pradesh    kurta  2110\n",
      "14    arunachal pradesh      Set    51\n",
      "21                assam      Set   589\n",
      "29                bihar      Set   932\n",
      "36           chandigarh      Set   130\n",
      "43         chhattisgarh      Set   357\n",
      "47      dadra and nagar      Set    28\n",
      "55                delhi      Set  2703\n",
      "66                  goa    kurta   449\n",
      "71              gujarat      Set  1478\n",
      "79              haryana      Set  1738\n",
      "86     himachal pradesh      Set   341\n",
      "93      jammu & kashmir      Set   311\n",
      "100           jharkhand      Set   592\n",
      "112           karnataka    kurta  5805\n",
      "120              kerala    kurta  2412\n",
      "121              ladakh      Set    29\n",
      "125         lakshadweep      Set     2\n",
      "131      madhya pradesh      Set   959\n",
      "142         maharashtra    kurta  7124\n",
      "146             manipur      Set   150\n",
      "153           meghalaya      Set    65\n",
      "158             mizoram      Set    23\n",
      "163            nagaland      Set   110\n",
      "171              orissa      Set   756\n",
      "181         pondicherry    kurta   161\n",
      "185              punjab      Set   754\n",
      "193           rajasthan      Set  1097\n",
      "198              sikkim      Set   106\n",
      "209          tamil nadu    kurta  4935\n",
      "218           telangana    kurta  4069\n",
      "224             tripura    kurta    51\n",
      "228             unknown    kurta    11\n",
      "233       uttar pradesh      Set  4222\n",
      "241         uttarakhand      Set   600\n",
      "252         west bengal    kurta  2123\n",
      "\n",
      "\n"
     ]
    }
   ],
   "source": [
    "popular_category_by_state = revenue.groupby(['Ship_State', 'Category'])['Qty'].sum().reset_index()\n",
    "popular_category_by_state = popular_category_by_state.sort_values(['Ship_State', 'Qty'], ascending=[True, False])\n",
    "popular_category_by_state = popular_category_by_state.drop_duplicates(subset=['Ship_State'])\n",
    "print(\"Самые популярные категории в штатах:\")\n",
    "print(popular_category_by_state)\n",
    "print(\"\\n\")\n"
   ]
  },
  {
   "cell_type": "markdown",
   "id": "4fde8016",
   "metadata": {},
   "source": [
    "### Анализ по типу клиентов"
   ]
  },
  {
   "cell_type": "code",
   "execution_count": 40,
   "id": "53a42d2f",
   "metadata": {},
   "outputs": [
    {
     "name": "stdout",
     "output_type": "stream",
     "text": [
      "Доход по типу пользователей:\n",
      "  Customer_type      Amount  Percent\n",
      "0      customer  69634986.0     99.0\n",
      "1      business    553411.0      1.0\n",
      "\n",
      "\n",
      "Средняя стоимость заказа по типу пользователей:\n",
      "Customer_type\n",
      "business    701.41\n",
      "customer    647.27\n",
      "Name: Amount, dtype: float64\n"
     ]
    }
   ],
   "source": [
    "amount_by_customer_type = revenue.groupby('Customer_type')['Amount'].sum().sort_values(ascending=False).reset_index()\n",
    "amount_by_customer_type['Percent'] = round(amount_by_customer_type.Amount / amount_by_customer_type.Amount.sum() * 100)\n",
    "print(\"Доход по типу пользователей:\")\n",
    "print(amount_by_customer_type)\n",
    "print('\\n')\n",
    "avg_order_amount_by_customer_type = revenue.groupby('Customer_type')['Amount'].mean().round(2)\n",
    "print(\"Средняя стоимость заказа по типу пользователей:\")\n",
    "print(avg_order_amount_by_customer_type)\n"
   ]
  },
  {
   "cell_type": "code",
   "execution_count": null,
   "id": "21408de2",
   "metadata": {},
   "outputs": [],
   "source": []
  }
 ],
 "metadata": {
  "kernelspec": {
   "display_name": "Python 3 (ipykernel)",
   "language": "python",
   "name": "python3"
  },
  "language_info": {
   "codemirror_mode": {
    "name": "ipython",
    "version": 3
   },
   "file_extension": ".py",
   "mimetype": "text/x-python",
   "name": "python",
   "nbconvert_exporter": "python",
   "pygments_lexer": "ipython3",
   "version": "3.9.12"
  }
 },
 "nbformat": 4,
 "nbformat_minor": 5
}
